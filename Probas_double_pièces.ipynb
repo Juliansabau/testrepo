{
 "cells": [
  {
   "cell_type": "code",
   "execution_count": 3,
   "metadata": {},
   "outputs": [
    {
     "name": "stdout",
     "output_type": "stream",
     "text": [
      "Fréquence des doubles Piles: 24.900%\n",
      "Fréquence des Faces & Piles: 49.780%\n",
      "Fréquence des doubles Faces: 25.320%\n"
     ]
    }
   ],
   "source": [
    "import random\n",
    "res = [0,0,0]\n",
    "\n",
    "def frequency(num):\n",
    "    # Tire 2 pièces équilibrées au hasard et calcule la fréquence des résultats obtenus.\n",
    "    # P=Pile F=Face   \n",
    "    # Résultats possibles:  PP, FP, PF, FF\n",
    "    # Lexique code: 0=P  1=F\n",
    "    # Attribution des résultats obtenus dans une liste comme suit: res = [(PP), (FP/PF), (FF)]\n",
    "      \n",
    "    for i in range (1, num+1):\n",
    "        a = random.randint(0,1)\n",
    "        b = random.randint(0,1)\n",
    "        if a==0 and b==0:\n",
    "            res[0] += 1\n",
    "        else:\n",
    "            if a==1 and b==1:\n",
    "                res[2] += 1\n",
    "            else:\n",
    "                res[1] += 1\n",
    "    return (res)\n",
    "    \n",
    "\n",
    "frequency(10000)\n",
    "\n",
    "# Calcul des fréquences \n",
    "\n",
    "freq_double_pile = res[0] / sum(res)\n",
    "freq_face_et_pile = res[1] / sum(res)\n",
    "freq_double_face = res[2] / sum(res)\n",
    "\n",
    "print(\"Fréquence des doubles Piles: {:.3%}\".format(freq_double_pile))\n",
    "print(\"Fréquence des Faces & Piles: {:.3%}\".format(freq_face_et_pile))\n",
    "print(\"Fréquence des doubles Faces: {:.3%}\".format(freq_double_face))\n"
   ]
  }
 ],
 "metadata": {
  "kernelspec": {
   "display_name": "Python 3",
   "language": "python",
   "name": "python3"
  },
  "language_info": {
   "codemirror_mode": {
    "name": "ipython",
    "version": 3
   },
   "file_extension": ".py",
   "mimetype": "text/x-python",
   "name": "python",
   "nbconvert_exporter": "python",
   "pygments_lexer": "ipython3",
   "version": "3.12.2"
  }
 },
 "nbformat": 4,
 "nbformat_minor": 2
}
